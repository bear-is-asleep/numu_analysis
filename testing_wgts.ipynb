{
 "cells": [
  {
   "cell_type": "code",
   "execution_count": null,
   "metadata": {},
   "outputs": [
    {
     "ename": "",
     "evalue": "",
     "output_type": "error",
     "traceback": [
      "\u001b[1;31mFailed to start the Kernel 'Python 3.9.10'. \n",
      "\u001b[1;31mView Jupyter <a href='command:jupyter.viewOutput'>log</a> for further details. Unknown system error -122: Unknown system error -122, close"
     ]
    }
   ],
   "source": [
    "import numpy as np\n",
    "import uproot\n",
    "import matplotlib.pyplot as plt\n",
    "import pandas as pd\n",
    "import sys\n",
    "\n",
    "sys.path.append('/sbnd/app/users/brindenc/mysbnana_v09_75_03/srcs/sbnana/sbnana/SBNAna/pyana')\n",
    "from makedf import geniesyst\n",
    "from sbnd.cafclasses.nu import NU\n",
    "from sbnd.general import utils\n",
    "\n",
    "%load_ext autoreload\n",
    "%autoreload 2"
   ]
  },
  {
   "cell_type": "markdown",
   "metadata": {},
   "source": [
    "## Testing"
   ]
  },
  {
   "cell_type": "code",
   "execution_count": null,
   "metadata": {},
   "outputs": [],
   "source": []
  },
  {
   "cell_type": "markdown",
   "metadata": {},
   "source": [
    "## Testing Genie"
   ]
  },
  {
   "cell_type": "code",
   "execution_count": 8,
   "metadata": {},
   "outputs": [],
   "source": [
    "fname = '/pnfs/sbn/data/sbn_nd/poms_production/official/MCP2022A/v09_37_02_04/prodoverlay_corsika_cosmics_proton_genie_rockbox_sce/reco2_caf/bc/be/reco2.flat.caf-e09ac695-01b7-44d7-9ef7-0172fb1bca3c.root'\n",
    "tree = uproot.open(fname)['recTree;3']\n",
    "keys = [\n",
    "  'rec.mc.nu.genweight',\n",
    "]\n",
    "df = tree.arrays(keys, library='pd')\n",
    "nu = NU(df)"
   ]
  },
  {
   "cell_type": "code",
   "execution_count": 9,
   "metadata": {},
   "outputs": [
    {
     "data": {
      "text/plain": [
       "Index(['rec.mc.nu.genweight'], dtype='object')"
      ]
     },
     "execution_count": 9,
     "metadata": {},
     "output_type": "execute_result"
    }
   ],
   "source": [
    "nu.keys()"
   ]
  },
  {
   "cell_type": "markdown",
   "metadata": {},
   "source": [
    "## Testing Numi"
   ]
  },
  {
   "cell_type": "code",
   "execution_count": 13,
   "metadata": {},
   "outputs": [],
   "source": [
    "FSYST = \"/cvmfs/sbn.opensciencegrid.org/products/sbn/sbndata/v01_04/beamData/NuMIdata/icarus_numi_flux_syst_ana.root\""
   ]
  },
  {
   "cell_type": "code",
   "execution_count": 19,
   "metadata": {},
   "outputs": [],
   "source": [
    "beam_uncertainties = [\n",
    "    \"beam_div\",\n",
    "    \"beam_shift_x\",\n",
    "    \"beam_spot\",\n",
    "    \"horn1_x\",\n",
    "    \"horn1_y\",\n",
    "    \"horn_current_plus\",\n",
    "    \"water_layer\"\n",
    "]\n",
    "\n",
    "pca_components = list(range(20))\n",
    "\n",
    "def histdf(h):\n",
    "    values = h.values()\n",
    "    bins = h.axis().edges()\n",
    "    idx = pd.IntervalIndex.from_breaks(bins)\n",
    "    return pd.Series(values, idx, name=None)\n",
    "           \n",
    "def getallpdg_histdf(d, prefix):\n",
    "    pdgs = {\n",
    "        \"numu\": 14,\n",
    "        \"numubar\": -14,\n",
    "        \"nue\": 12,\n",
    "        \"nuebar\": -12   \n",
    "    }\n",
    "    hs = []\n",
    "    for pdgname, pdgcode in pdgs.items():\n",
    "        h = histdf(d[prefix + pdgname])\n",
    "        h.index = pd.MultiIndex.from_product([[pdgcode], h.index], names=[\"pdg\", \"E\"])\n",
    "        hs.append(h)\n",
    "    return pd.concat(hs)\n",
    "def numisyst(nupdg, nuE, fsyst=FSYST):\n",
    "    flux_f = uproot.open(fsyst)\n",
    "\n",
    "    cv = getallpdg_histdf(flux_f[\"ppfx_output\"][\"fhc\"][\"nom\"], \"hcv_\") / getallpdg_histdf(flux_f[\"ppfx_output\"][\"fhc\"][\"nom\"], \"hnom_\")\n",
    "    cv.name = (\"ppfx\", \"cv\")\n",
    "\n",
    "    beam_syst_wgts = []\n",
    "    for uc in beam_uncertainties:\n",
    "        uncdf = getallpdg_histdf(flux_f[\"fractional_uncertainties\"][\"beam\"][uc], \"hfrac_beam_\" + uc + \"_fhc_\")\n",
    "        wgtdf_p = 1 + uncdf\n",
    "        wgtdf_m = 1 - uncdf\n",
    "        wgtdf_p.name = (uc, \"ps\")\n",
    "        wgtdf_m.name = (uc, \"ms\")\n",
    "        beam_syst_wgts.append(wgtdf_p)\n",
    "        beam_syst_wgts.append(wgtdf_m)\n",
    "    \n",
    "    # for i in pca_components:\n",
    "    #     uncdf = getallpdg_histdf(flux_f[\"pca\"][\"principal_components\"], \"hpc_%i_fhc_\" % i)\n",
    "    #     wgtdf_p = 1 + uncdf\n",
    "    #     wgtdf_m = 1 - uncdf\n",
    "    #     wgtdf_p.name = ((\"pca%i\" % i), \"ps\")\n",
    "    #     wgtdf_m.name = ((\"pca%i\" % i), \"ms\")\n",
    "    #     beam_syst_wgts.append(wgtdf_p)\n",
    "    #     beam_syst_wgts.append(wgtdf_m)\n",
    "\n",
    "    wgts = pd.DataFrame([cv] + beam_syst_wgts).T\n",
    "    print(nupdg,nuE)\n",
    "    nuind = pd.MultiIndex.from_arrays([nupdg, nuE])\n",
    "    iloc = wgts.index.get_indexer(nuind)\n",
    "    match_wgts = wgts.iloc[iloc]\n",
    "    match_wgts.loc[iloc < 0, :] = 1.\n",
    "    match_wgts.index = nuE.index\n",
    "\n",
    "    return match_wgts"
   ]
  },
  {
   "cell_type": "code",
   "execution_count": 20,
   "metadata": {},
   "outputs": [],
   "source": [
    "cv = getallpdg_histdf(flux_f[\"ppfx_output\"][\"fhc\"][\"nom\"], \"hcv_\") / getallpdg_histdf(flux_f[\"ppfx_output\"][\"fhc\"][\"nom\"], \"hnom_\")\n",
    "cv.name = (\"ppfx\", \"cv\")"
   ]
  },
  {
   "cell_type": "code",
   "execution_count": 22,
   "metadata": {},
   "outputs": [
    {
     "name": "stdout",
     "output_type": "stream",
     "text": [
      "[14, 12] [1, 1]\n"
     ]
    },
    {
     "name": "stderr",
     "output_type": "stream",
     "text": [
      "/sbnd/data/users/brindenc/.local/lib/python3.9/site-packages/pandas/core/indexing.py:1817: SettingWithCopyWarning: \n",
      "A value is trying to be set on a copy of a slice from a DataFrame.\n",
      "Try using .loc[row_indexer,col_indexer] = value instead\n",
      "\n",
      "See the caveats in the documentation: https://pandas.pydata.org/pandas-docs/stable/user_guide/indexing.html#returning-a-view-versus-a-copy\n",
      "  self._setitem_single_column(loc, value, pi)\n"
     ]
    },
    {
     "ename": "TypeError",
     "evalue": "'builtin_function_or_method' object is not iterable",
     "output_type": "error",
     "traceback": [
      "\u001b[0;31m---------------------------------------------------------------------------\u001b[0m",
      "\u001b[0;31mTypeError\u001b[0m                                 Traceback (most recent call last)",
      "\u001b[1;32m/sbnd/app/users/brindenc/analyze_sbnd/numu/testing_wgts.ipynb Cell 6\u001b[0m line \u001b[0;36m<cell line: 1>\u001b[0;34m()\u001b[0m\n\u001b[0;32m----> <a href='vscode-notebook-cell://ssh-remote%2Bsbnd_gpvm_4/sbnd/app/users/brindenc/analyze_sbnd/numu/testing_wgts.ipynb#W4sdnNjb2RlLXJlbW90ZQ%3D%3D?line=0'>1</a>\u001b[0m numisyst([\u001b[39m14\u001b[39;49m,\u001b[39m12\u001b[39;49m],[\u001b[39m1\u001b[39;49m,\u001b[39m1\u001b[39;49m])\n",
      "\u001b[1;32m/sbnd/app/users/brindenc/analyze_sbnd/numu/testing_wgts.ipynb Cell 6\u001b[0m line \u001b[0;36mnumisyst\u001b[0;34m(nupdg, nuE, fsyst)\u001b[0m\n\u001b[1;32m     <a href='vscode-notebook-cell://ssh-remote%2Bsbnd_gpvm_4/sbnd/app/users/brindenc/analyze_sbnd/numu/testing_wgts.ipynb#W4sdnNjb2RlLXJlbW90ZQ%3D%3D?line=60'>61</a>\u001b[0m match_wgts \u001b[39m=\u001b[39m wgts\u001b[39m.\u001b[39miloc[iloc]\n\u001b[1;32m     <a href='vscode-notebook-cell://ssh-remote%2Bsbnd_gpvm_4/sbnd/app/users/brindenc/analyze_sbnd/numu/testing_wgts.ipynb#W4sdnNjb2RlLXJlbW90ZQ%3D%3D?line=61'>62</a>\u001b[0m match_wgts\u001b[39m.\u001b[39mloc[iloc \u001b[39m<\u001b[39m \u001b[39m0\u001b[39m, :] \u001b[39m=\u001b[39m \u001b[39m1.\u001b[39m\n\u001b[0;32m---> <a href='vscode-notebook-cell://ssh-remote%2Bsbnd_gpvm_4/sbnd/app/users/brindenc/analyze_sbnd/numu/testing_wgts.ipynb#W4sdnNjb2RlLXJlbW90ZQ%3D%3D?line=62'>63</a>\u001b[0m match_wgts\u001b[39m.\u001b[39mindex \u001b[39m=\u001b[39m nuE\u001b[39m.\u001b[39mindex\n\u001b[1;32m     <a href='vscode-notebook-cell://ssh-remote%2Bsbnd_gpvm_4/sbnd/app/users/brindenc/analyze_sbnd/numu/testing_wgts.ipynb#W4sdnNjb2RlLXJlbW90ZQ%3D%3D?line=64'>65</a>\u001b[0m \u001b[39mreturn\u001b[39;00m match_wgts\n",
      "File \u001b[0;32m/sbnd/data/users/brindenc/.local/lib/python3.9/site-packages/pandas/core/generic.py:5500\u001b[0m, in \u001b[0;36mNDFrame.__setattr__\u001b[0;34m(self, name, value)\u001b[0m\n\u001b[1;32m   5498\u001b[0m \u001b[39mtry\u001b[39;00m:\n\u001b[1;32m   5499\u001b[0m     \u001b[39mobject\u001b[39m\u001b[39m.\u001b[39m\u001b[39m__getattribute__\u001b[39m(\u001b[39mself\u001b[39m, name)\n\u001b[0;32m-> 5500\u001b[0m     \u001b[39mreturn\u001b[39;00m \u001b[39mobject\u001b[39;49m\u001b[39m.\u001b[39;49m\u001b[39m__setattr__\u001b[39;49m(\u001b[39mself\u001b[39;49m, name, value)\n\u001b[1;32m   5501\u001b[0m \u001b[39mexcept\u001b[39;00m \u001b[39mAttributeError\u001b[39;00m:\n\u001b[1;32m   5502\u001b[0m     \u001b[39mpass\u001b[39;00m\n",
      "File \u001b[0;32m/sbnd/data/users/brindenc/.local/lib/python3.9/site-packages/pandas/_libs/properties.pyx:70\u001b[0m, in \u001b[0;36mpandas._libs.properties.AxisProperty.__set__\u001b[0;34m()\u001b[0m\n",
      "File \u001b[0;32m/sbnd/data/users/brindenc/.local/lib/python3.9/site-packages/pandas/core/generic.py:765\u001b[0m, in \u001b[0;36mNDFrame._set_axis\u001b[0;34m(self, axis, labels)\u001b[0m\n\u001b[1;32m    764\u001b[0m \u001b[39mdef\u001b[39;00m \u001b[39m_set_axis\u001b[39m(\u001b[39mself\u001b[39m, axis: \u001b[39mint\u001b[39m, labels: Index) \u001b[39m-\u001b[39m\u001b[39m>\u001b[39m \u001b[39mNone\u001b[39;00m:\n\u001b[0;32m--> 765\u001b[0m     labels \u001b[39m=\u001b[39m ensure_index(labels)\n\u001b[1;32m    766\u001b[0m     \u001b[39mself\u001b[39m\u001b[39m.\u001b[39m_mgr\u001b[39m.\u001b[39mset_axis(axis, labels)\n\u001b[1;32m    767\u001b[0m     \u001b[39mself\u001b[39m\u001b[39m.\u001b[39m_clear_item_cache()\n",
      "File \u001b[0;32m/sbnd/data/users/brindenc/.local/lib/python3.9/site-packages/pandas/core/indexes/base.py:6336\u001b[0m, in \u001b[0;36mensure_index\u001b[0;34m(index_like, copy)\u001b[0m\n\u001b[1;32m   6333\u001b[0m         \u001b[39mreturn\u001b[39;00m Index(index_like, copy\u001b[39m=\u001b[39mcopy, tupleize_cols\u001b[39m=\u001b[39m\u001b[39mFalse\u001b[39;00m)\n\u001b[1;32m   6334\u001b[0m \u001b[39melse\u001b[39;00m:\n\u001b[0;32m-> 6336\u001b[0m     \u001b[39mreturn\u001b[39;00m Index(index_like, copy\u001b[39m=\u001b[39;49mcopy)\n",
      "File \u001b[0;32m/sbnd/data/users/brindenc/.local/lib/python3.9/site-packages/pandas/core/indexes/base.py:494\u001b[0m, in \u001b[0;36mIndex.__new__\u001b[0;34m(cls, data, dtype, copy, name, tupleize_cols, **kwargs)\u001b[0m\n\u001b[1;32m    489\u001b[0m         \u001b[39mreturn\u001b[39;00m MultiIndex\u001b[39m.\u001b[39mfrom_tuples(\n\u001b[1;32m    490\u001b[0m             data, names\u001b[39m=\u001b[39mname \u001b[39mor\u001b[39;00m kwargs\u001b[39m.\u001b[39mget(\u001b[39m\"\u001b[39m\u001b[39mnames\u001b[39m\u001b[39m\"\u001b[39m)\n\u001b[1;32m    491\u001b[0m         )\n\u001b[1;32m    492\u001b[0m \u001b[39m# other iterable of some kind\u001b[39;00m\n\u001b[0;32m--> 494\u001b[0m subarr \u001b[39m=\u001b[39m com\u001b[39m.\u001b[39;49masarray_tuplesafe(data, dtype\u001b[39m=\u001b[39;49mnp\u001b[39m.\u001b[39;49mdtype(\u001b[39m\"\u001b[39;49m\u001b[39mobject\u001b[39;49m\u001b[39m\"\u001b[39;49m))\n\u001b[1;32m    495\u001b[0m \u001b[39mreturn\u001b[39;00m Index(subarr, dtype\u001b[39m=\u001b[39mdtype, copy\u001b[39m=\u001b[39mcopy, name\u001b[39m=\u001b[39mname, \u001b[39m*\u001b[39m\u001b[39m*\u001b[39mkwargs)\n",
      "File \u001b[0;32m/sbnd/data/users/brindenc/.local/lib/python3.9/site-packages/pandas/core/common.py:227\u001b[0m, in \u001b[0;36masarray_tuplesafe\u001b[0;34m(values, dtype)\u001b[0m\n\u001b[1;32m    224\u001b[0m \u001b[39mdef\u001b[39;00m \u001b[39masarray_tuplesafe\u001b[39m(values, dtype: NpDtype \u001b[39m|\u001b[39m \u001b[39mNone\u001b[39;00m \u001b[39m=\u001b[39m \u001b[39mNone\u001b[39;00m) \u001b[39m-\u001b[39m\u001b[39m>\u001b[39m np\u001b[39m.\u001b[39mndarray:\n\u001b[1;32m    226\u001b[0m     \u001b[39mif\u001b[39;00m \u001b[39mnot\u001b[39;00m (\u001b[39misinstance\u001b[39m(values, (\u001b[39mlist\u001b[39m, \u001b[39mtuple\u001b[39m)) \u001b[39mor\u001b[39;00m \u001b[39mhasattr\u001b[39m(values, \u001b[39m\"\u001b[39m\u001b[39m__array__\u001b[39m\u001b[39m\"\u001b[39m)):\n\u001b[0;32m--> 227\u001b[0m         values \u001b[39m=\u001b[39m \u001b[39mlist\u001b[39;49m(values)\n\u001b[1;32m    228\u001b[0m     \u001b[39melif\u001b[39;00m \u001b[39misinstance\u001b[39m(values, ABCIndex):\n\u001b[1;32m    229\u001b[0m         \u001b[39m# error: Incompatible return value type (got \"Union[ExtensionArray, ndarray]\",\u001b[39;00m\n\u001b[1;32m    230\u001b[0m         \u001b[39m# expected \"ndarray\")\u001b[39;00m\n\u001b[1;32m    231\u001b[0m         \u001b[39mreturn\u001b[39;00m values\u001b[39m.\u001b[39m_values  \u001b[39m# type: ignore[return-value]\u001b[39;00m\n",
      "\u001b[0;31mTypeError\u001b[0m: 'builtin_function_or_method' object is not iterable"
     ]
    }
   ],
   "source": [
    "\n",
    "numisyst([14,12],[1,1])"
   ]
  },
  {
   "cell_type": "code",
   "execution_count": null,
   "metadata": {},
   "outputs": [],
   "source": []
  }
 ],
 "metadata": {
  "kernelspec": {
   "display_name": ".venv",
   "language": "python",
   "name": "python3"
  },
  "language_info": {
   "codemirror_mode": {
    "name": "ipython",
    "version": 3
   },
   "file_extension": ".py",
   "mimetype": "text/x-python",
   "name": "python",
   "nbconvert_exporter": "python",
   "pygments_lexer": "ipython3",
   "version": "3.9.10"
  },
  "orig_nbformat": 4
 },
 "nbformat": 4,
 "nbformat_minor": 2
}
